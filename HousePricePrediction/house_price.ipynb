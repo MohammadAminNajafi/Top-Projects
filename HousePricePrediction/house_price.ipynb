{
 "cells": [
  {
   "cell_type": "code",
   "execution_count": 1,
   "metadata": {},
   "outputs": [],
   "source": [
    "import pandas as pd\n",
    "import numpy as np\n",
    "import matplotlib.pyplot as plt\n",
    "from sklearn.preprocessing import OrdinalEncoder\n",
    "from scipy.optimize import curve_fit\n",
    "from sklearn.preprocessing import MinMaxScaler\n",
    "from sklearn.preprocessing import MaxAbsScaler,LabelEncoder\n",
    "from sklearn.ensemble import GradientBoostingRegressor\n",
    "from sklearn.metrics import r2_score\n",
    "from sklearn import preprocessing\n",
    "from sklearn.model_selection import train_test_split"
   ]
  },
  {
   "cell_type": "code",
   "execution_count": 2,
   "metadata": {},
   "outputs": [
    {
     "data": {
      "text/html": [
       "<div>\n",
       "<style scoped>\n",
       "    .dataframe tbody tr th:only-of-type {\n",
       "        vertical-align: middle;\n",
       "    }\n",
       "\n",
       "    .dataframe tbody tr th {\n",
       "        vertical-align: top;\n",
       "    }\n",
       "\n",
       "    .dataframe thead th {\n",
       "        text-align: right;\n",
       "    }\n",
       "</style>\n",
       "<table border=\"1\" class=\"dataframe\">\n",
       "  <thead>\n",
       "    <tr style=\"text-align: right;\">\n",
       "      <th></th>\n",
       "      <th>Area</th>\n",
       "      <th>Room</th>\n",
       "      <th>Price</th>\n",
       "      <th>Price(USD)</th>\n",
       "    </tr>\n",
       "  </thead>\n",
       "  <tbody>\n",
       "    <tr>\n",
       "      <th>count</th>\n",
       "      <td>3450.000000</td>\n",
       "      <td>3450.000000</td>\n",
       "      <td>3.450000e+03</td>\n",
       "      <td>3.450000e+03</td>\n",
       "    </tr>\n",
       "    <tr>\n",
       "      <th>mean</th>\n",
       "      <td>106.917391</td>\n",
       "      <td>2.081159</td>\n",
       "      <td>5.375563e+09</td>\n",
       "      <td>1.791854e+05</td>\n",
       "    </tr>\n",
       "    <tr>\n",
       "      <th>std</th>\n",
       "      <td>69.550976</td>\n",
       "      <td>0.760216</td>\n",
       "      <td>8.125918e+09</td>\n",
       "      <td>2.708639e+05</td>\n",
       "    </tr>\n",
       "    <tr>\n",
       "      <th>min</th>\n",
       "      <td>30.000000</td>\n",
       "      <td>0.000000</td>\n",
       "      <td>3.600000e+06</td>\n",
       "      <td>1.200000e+02</td>\n",
       "    </tr>\n",
       "    <tr>\n",
       "      <th>25%</th>\n",
       "      <td>69.000000</td>\n",
       "      <td>2.000000</td>\n",
       "      <td>1.419250e+09</td>\n",
       "      <td>4.730833e+04</td>\n",
       "    </tr>\n",
       "    <tr>\n",
       "      <th>50%</th>\n",
       "      <td>90.000000</td>\n",
       "      <td>2.000000</td>\n",
       "      <td>2.900000e+09</td>\n",
       "      <td>9.666667e+04</td>\n",
       "    </tr>\n",
       "    <tr>\n",
       "      <th>75%</th>\n",
       "      <td>120.000000</td>\n",
       "      <td>2.000000</td>\n",
       "      <td>6.000000e+09</td>\n",
       "      <td>2.000000e+05</td>\n",
       "    </tr>\n",
       "    <tr>\n",
       "      <th>max</th>\n",
       "      <td>929.000000</td>\n",
       "      <td>5.000000</td>\n",
       "      <td>9.240000e+10</td>\n",
       "      <td>3.080000e+06</td>\n",
       "    </tr>\n",
       "  </tbody>\n",
       "</table>\n",
       "</div>"
      ],
      "text/plain": [
       "              Area         Room         Price    Price(USD)\n",
       "count  3450.000000  3450.000000  3.450000e+03  3.450000e+03\n",
       "mean    106.917391     2.081159  5.375563e+09  1.791854e+05\n",
       "std      69.550976     0.760216  8.125918e+09  2.708639e+05\n",
       "min      30.000000     0.000000  3.600000e+06  1.200000e+02\n",
       "25%      69.000000     2.000000  1.419250e+09  4.730833e+04\n",
       "50%      90.000000     2.000000  2.900000e+09  9.666667e+04\n",
       "75%     120.000000     2.000000  6.000000e+09  2.000000e+05\n",
       "max     929.000000     5.000000  9.240000e+10  3.080000e+06"
      ]
     },
     "execution_count": 2,
     "metadata": {},
     "output_type": "execute_result"
    }
   ],
   "source": [
    "data = pd.read_csv('house_features.csv')\n",
    "\n",
    "data = data[data.apply(lambda row: len(row) == 8, axis=1)]\n",
    "\n",
    "data = data[data['Address'].notnull()]\n",
    "\n",
    "data['Area'] = pd.to_numeric(data['Area'], errors='coerce')\n",
    "\n",
    "data = data[data['Area'] < 1000]\n",
    "\n",
    "data.to_csv('cleaned_dataset.csv', index=False)\n",
    "\n",
    "cleaned_data_set = pd.read_csv('cleaned_dataset.csv')\n",
    "cleaned_data_set.describe()"
   ]
  },
  {
   "cell_type": "code",
   "execution_count": 3,
   "metadata": {},
   "outputs": [
    {
     "data": {
      "text/plain": [
       "<bound method NDFrame.describe of        Area  Room  Parking  Warehouse  Elevator             Address   \n",
       "0      63.0     1     True       True      True             Shahran  \\\n",
       "1      60.0     1     True       True      True             Shahran   \n",
       "2      79.0     2     True       True      True              Pardis   \n",
       "3      95.0     2     True       True      True       Shahrake Qods   \n",
       "4     123.0     2     True       True      True      Shahrake Gharb   \n",
       "...     ...   ...      ...        ...       ...                 ...   \n",
       "3445   86.0     2     True       True      True  Southern Janatabad   \n",
       "3446   83.0     2     True       True      True            Niavaran   \n",
       "3447   75.0     2    False      False     False              Parand   \n",
       "3448  105.0     2     True       True      True              Dorous   \n",
       "3449   82.0     2    False       True      True              Parand   \n",
       "\n",
       "             Price  Price(USD)  \n",
       "0     1.850000e+09    61666.67  \n",
       "1     1.850000e+09    61666.67  \n",
       "2     5.500000e+08    18333.33  \n",
       "3     9.025000e+08    30083.33  \n",
       "4     7.000000e+09   233333.33  \n",
       "...            ...         ...  \n",
       "3445  3.500000e+09   116666.67  \n",
       "3446  6.800000e+09   226666.67  \n",
       "3447  3.650000e+08    12166.67  \n",
       "3448  5.600000e+09   186666.67  \n",
       "3449  3.600000e+08    12000.00  \n",
       "\n",
       "[3450 rows x 8 columns]>"
      ]
     },
     "execution_count": 3,
     "metadata": {},
     "output_type": "execute_result"
    }
   ],
   "source": [
    "df = pd.read_csv('cleaned_dataset.csv')\n",
    "df.describe"
   ]
  },
  {
   "cell_type": "code",
   "execution_count": 4,
   "metadata": {},
   "outputs": [],
   "source": [
    "enc = OrdinalEncoder()\n",
    "numeric_address = enc.fit_transform(df[['Address']])\n",
    "df['numeric_address'] = numeric_address\n",
    "df.to_csv('cleaned_dataset_2.csv', index=False)\n"
   ]
  },
  {
   "cell_type": "code",
   "execution_count": 5,
   "metadata": {},
   "outputs": [
    {
     "data": {
      "text/plain": [
       "array([[-0.63153331, -1.42237999,  0.42413507,  0.30464673,  0.51940625,\n",
       "         1.01365174],\n",
       "       [-0.67467339, -1.42237999,  0.42413507,  0.30464673,  0.51940625,\n",
       "         1.01365174],\n",
       "       [-0.40145286, -0.10677383,  0.42413507,  0.30464673,  0.51940625,\n",
       "         0.23852391],\n",
       "       ...,\n",
       "       [-0.45897297, -0.10677383, -2.35773946, -3.28249052, -1.92527527,\n",
       "         0.19877377],\n",
       "       [-0.02757214, -0.10677383,  0.42413507,  0.30464673,  0.51940625,\n",
       "        -1.31173174],\n",
       "       [-0.35831278, -0.10677383, -2.35773946,  0.30464673,  0.51940625,\n",
       "         0.19877377]])"
      ]
     },
     "execution_count": 5,
     "metadata": {},
     "output_type": "execute_result"
    }
   ],
   "source": [
    "X = df[['Area', 'Room', 'Parking', 'Warehouse', 'Elevator', 'numeric_address']]\n",
    "scaler = preprocessing.StandardScaler().fit(X)\n",
    "X = scaler.transform(X.astype(float))\n",
    "X"
   ]
  },
  {
   "cell_type": "code",
   "execution_count": 6,
   "metadata": {},
   "outputs": [
    {
     "data": {
      "text/plain": [
       "0        61666.67\n",
       "1        61666.67\n",
       "2        18333.33\n",
       "3        30083.33\n",
       "4       233333.33\n",
       "          ...    \n",
       "3445    116666.67\n",
       "3446    226666.67\n",
       "3447     12166.67\n",
       "3448    186666.67\n",
       "3449     12000.00\n",
       "Name: Price(USD), Length: 3450, dtype: float64"
      ]
     },
     "execution_count": 6,
     "metadata": {},
     "output_type": "execute_result"
    }
   ],
   "source": [
    "Y = df['Price(USD)']\n",
    "Y"
   ]
  },
  {
   "cell_type": "code",
   "execution_count": 7,
   "metadata": {},
   "outputs": [
    {
     "name": "stdout",
     "output_type": "stream",
     "text": [
      "Train set:  (2760, 6) (2760,)\n",
      "Test set:  (690, 6) (690,)\n"
     ]
    }
   ],
   "source": [
    "train_x, test_x, train_y, test_y = train_test_split(X, Y, test_size=0.2, random_state=4)\n",
    "print('Train set: ', train_x.shape, train_y.shape)\n",
    "print('Test set: ', test_x.shape, test_y.shape)"
   ]
  },
  {
   "cell_type": "code",
   "execution_count": 8,
   "metadata": {},
   "outputs": [
    {
     "data": {
      "image/png": "[encoded data removed]",
      "text/plain": [
       "<Figure size 640x480 with 1 Axes>"
      ]
     },
     "metadata": {},
     "output_type": "display_data"
    }
   ],
   "source": [
    "plt.plot(train_x, train_y, 'bo')\n",
    "plt.xlabel('Features')\n",
    "plt.ylabel('Price(USD)')\n",
    "plt.show()\n",
    "df.to_csv('cleaned_dataset_2.csv', index=False)"
   ]
  },
  {
   "cell_type": "code",
   "execution_count": 9,
   "metadata": {},
   "outputs": [],
   "source": [
    "model=GradientBoostingRegressor(loss='squared_error',n_estimators=500,max_depth=128,min_samples_split=2,min_samples_leaf=2)"
   ]
  },
  {
   "cell_type": "code",
   "execution_count": 10,
   "metadata": {},
   "outputs": [
    {
     "name": "stdout",
     "output_type": "stream",
     "text": [
      "0.9905896110790785\n",
      "0.7311722457850238\n"
     ]
    }
   ],
   "source": [
    "\n",
    "model.fit(train_x,train_y)\n",
    "\n",
    "predict_trainYn = model.predict(train_x)\n",
    "predict_testYn=model.predict(test_x)\n",
    "\n",
    "r_train=r2_score(train_y,predict_trainYn)\n",
    "r_test=r2_score(test_y,predict_testYn)\n",
    "print(r_train)\n",
    "print(r_test) "
   ]
  }
 ],
 "metadata": {
  "kernelspec": {
   "display_name": "Python 3",
   "language": "python",
   "name": "python3"
  },
  "language_info": {
   "codemirror_mode": {
    "name": "ipython",
    "version": 3
   },
   "file_extension": ".py",
   "mimetype": "text/x-python",
   "name": "python",
   "nbconvert_exporter": "python",
   "pygments_lexer": "ipython3",
   "version": "3.11.3"
  }
 },
 "nbformat": 4,
 "nbformat_minor": 2
}
